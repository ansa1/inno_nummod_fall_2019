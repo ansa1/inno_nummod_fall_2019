{
  "nbformat": 4,
  "nbformat_minor": 0,
  "metadata": {
    "kernelspec": {
      "display_name": "Python 3",
      "language": "python",
      "name": "python3"
    },
    "language_info": {
      "codemirror_mode": {
        "name": "ipython",
        "version": 3
      },
      "file_extension": ".py",
      "mimetype": "text/x-python",
      "name": "python",
      "nbconvert_exporter": "python",
      "pygments_lexer": "ipython3",
      "version": "3.6.8"
    },
    "colab": {
      "name": "ha2-Copy1.ipynb",
      "provenance": [],
      "collapsed_sections": []
    }
  },
  "cells": [
    {
      "cell_type": "markdown",
      "metadata": {
        "id": "BlShOqIMU1DG",
        "colab_type": "text"
      },
      "source": [
        "### 1. Formulate the statement of the interpolation problem with Cubic Spline [mathematical formula]"
      ]
    },
    {
      "cell_type": "markdown",
      "metadata": {
        "id": "v-NW62yjU1DL",
        "colab_type": "text"
      },
      "source": [
        "### Interpolation Problem\n",
        "The interpolation task is the problem of finding intermediate values of a quantity from an available discrete set of known values. Based on these sets, it is required to construct a function on which other obtained values could fall with high accuracy. This problem is called approximation. Interpolation is a kind of approximation in which the curve of the constructed function passes exactly through the available data points.\n",
        "\n",
        "### Cubic Spline\n",
        "Cubic spline interpolation is a special case for Spline interpolation.\n",
        "\n",
        "Spline interpolation is a form of interpolation where the interpolant is a special type of piecewise polynomial called a spline.\n",
        "\n",
        "Spline $S(x)$ is a function satisfying:\n",
        "1. $S(x)$ in $C^{2}[a,b]$;\n",
        "2. On each subinterval $[x_{i-1},x_{i}],S(x)$ $[x_{i-1},x_{i}], S(x)$ is a polynomial of degree 3, where $i=1,... ,n.$\n",
        "3. $S(x_{i})=y_{i},$ $S(x_{i})=y_{i},$ for all $i=0,1,... ,n.$\n",
        "\n",
        "Let us assume that:\n",
        "\n",
        "$S(x)$ = $ \\{ {\\begin{array}{rl}S_{1}(x),&x_{0}\\leq x\\leq x_{1}\\\\\\cdots &\\\\S_{i}(x),&x_{i-1}<x\\leq x_{i}\\\\\\cdots &\\\\S_{n}(x),&x_{n-1}<x\\leq x_{n}\\end{array}} $\n",
        "\n",
        "\n",
        "\n",
        "$S_{i}=a_{i}+b_{i}x+c_{i}x^{2}+d_{i}x^{3}(d_{i}\\neq 0)$ is a cubic function, $i=1,\\cdots ,n$\n",
        "\n"
      ]
    },
    {
      "cell_type": "markdown",
      "metadata": {
        "id": "WmLucjgZU1DM",
        "colab_type": "text"
      },
      "source": [
        "### 2. Formulate the functional and differential compatibility conditions [mathematical formula]"
      ]
    },
    {
      "cell_type": "markdown",
      "metadata": {
        "id": "4hCXA9JBU1DN",
        "colab_type": "text"
      },
      "source": [
        "### Functional conditions:\n",
        "\n",
        "$\\delta S(x)|_{x=x_i} = {S_i}(x)-f_i(x_i)=0$\n",
        "\n",
        "\n",
        "### Differential conditions\n",
        "\n",
        "$\\delta S''(x)|_{x=x_i} = {S_i''}(x)-f_i''(x_i)=0$"
      ]
    },
    {
      "cell_type": "markdown",
      "metadata": {
        "id": "suTV01XLU1DN",
        "colab_type": "text"
      },
      "source": [
        "### 3. Formulate stitching conditions [mathematical formula]"
      ]
    },
    {
      "cell_type": "markdown",
      "metadata": {
        "id": "vZ3_-ifPU1DO",
        "colab_type": "text"
      },
      "source": [
        "$S_{m,i-1}^{(p_2)}(x)|_{x=x_i}=S_{m,i}^{(p_2)}(x)|_{x=x_i},i=\\overline{1,n-1}$"
      ]
    },
    {
      "cell_type": "markdown",
      "metadata": {
        "id": "ya1YcVSGU1DP",
        "colab_type": "text"
      },
      "source": [
        "### 4. Justify why these conditions provide you with the required smoothness [thesis text, no more than 500 characters]"
      ]
    },
    {
      "cell_type": "markdown",
      "metadata": {
        "id": "xxQXAYpaU1DQ",
        "colab_type": "text"
      },
      "source": [
        "The functional condition provides a solution to the interpolation problem.\n",
        "\n",
        "But using only functional condition leads to the fact that derivatives at the junction points of partial segments have discontinuities. If the function to be performed is sufficiently smooth, then its derivatives are also smooth, and therefore they must be continuous at all internal nodes. This is the reason to add stitching conditions.\n",
        "\n",
        "But these conditions do not provide solution of the problem, because we do not have enough equations to find unknown variables, so we add differential conditions."
      ]
    },
    {
      "cell_type": "markdown",
      "metadata": {
        "id": "jDiG1DY1U1DR",
        "colab_type": "text"
      },
      "source": [
        "### 5. Derive dependency formula: the dependence of the second derivatives at the grid nodes on the increment of the function (the function values difference on the grid nodes). [Mathematical formulas derivation. Detailed, with clear transitions]"
      ]
    },
    {
      "cell_type": "markdown",
      "metadata": {
        "id": "6NJCmKA_xVdI",
        "colab_type": "text"
      },
      "source": [
        "Polynomial:\n",
        "\n",
        "$S_{3, i}=a_{0, i}+a_{1,i}(x - x_i)+a_{2, i}(x - x_i)^{2}+a_{3, i}(x - x_i)^{3}$\n",
        "\n",
        "Let:\n",
        "\n",
        "$h_i = x_i - x_{i - 1}$\n",
        "\n",
        "$\\delta f_i = f_{i + 1} - f_i$\n",
        "\n",
        "$\\delta m_i = m_{i + 1} - m_i$\n",
        "\n",
        "\n",
        "Use 2 differential condition with $p_1$ = {0, 2} and get 4 equations:\n",
        "\n",
        "// I'll add photos here because to hard to use LaTex at 3:37 AM\n",
        "\n",
        "![](https://i.ibb.co/Mnvcsxc/1.jpg)\n",
        "![](https://i.ibb.co/9qC0J1h/2.jpg)\n",
        "![](https://i.ibb.co/HFtnwn3/3.jpg)\n",
        "\n",
        "\n",
        "1. Make 4 equations and find $a_{0, i}, a_{1, i}, a_{2, i}, a_{3, i}$\n",
        "2. And now we have known variables: $f_i$ and unknown: $m_i$\n",
        "3. To find them, use stitching condition:\n",
        "\n",
        "  $S'_{3, i}(x) = S'_{3, i - 1}(x)$\n",
        "4. Now we get dependence between them:\n",
        "  $\\frac{h_i} {6} * m_{i - 1} + \\frac{h_i + h_{i + 1}} {3} * m_i + \\frac{h_{i + 1}} {6} * m_{i + 1} = \\frac{\\delta f_i} {h_{i + 1}} - \\frac{\\delta f_{i - 1}} {h_i}$\n",
        "\n",
        "So, we see that we have  dependence of the second derivatives at the grid nodes on the increment of the function($m_i$ and $f_i$)"
      ]
    },
    {
      "cell_type": "markdown",
      "metadata": {
        "id": "o7I5LjRbU1DV",
        "colab_type": "text"
      },
      "source": [
        "### 6. Create a system of equations using this formula [Matrix representation. Mathematical formulas]"
      ]
    },
    {
      "cell_type": "markdown",
      "metadata": {
        "id": "WCAN3jql8iO0",
        "colab_type": "text"
      },
      "source": [
        "$A' = \\begin{pmatrix} C_1' & B_1 & 0   & 0   & \\cdots & 0 & 0\n",
        "                         \\\\ 0 & C_2' & B_2 & 0   & \\cdots & 0 & 0\n",
        "                         \\\\ 0 & 0 & C_3' & B_3 & \\cdots & 0 & 0 \n",
        "                         \\\\ \\cdots & \\cdots & \\cdots & \\cdots & \\cdots & \\cdots & \\cdots \n",
        "                         \\\\ \\cdots & \\cdots & \\cdots & \\cdots & \\cdots & \\cdots & \\cdots \n",
        "                         \\\\ \\cdots & \\cdots & \\cdots & \\cdots & 0 & C'_{n-1} & B_{n-1}\n",
        "                         \\\\ 0 & 0 & 0 & 0 & \\cdots & 0 & C_{n}'\n",
        "            \\end{pmatrix}$\n",
        "  .\n",
        "  \n",
        "Where: \n",
        "\n",
        "$A_i = \\frac{h_i} {6}$\n",
        "\n",
        "$B_i = \\frac{h_i + h_{i + 1}} {3}$\n",
        "\n",
        "$C_i = \\frac{h_{i + 1}} {6}$\n",
        "\n",
        "$C'_i = C_i - \\frac{A_i} {C'_{i - 1}} * B_{i - 1}$"
      ]
    },
    {
      "cell_type": "markdown",
      "metadata": {
        "id": "vNfJG1FXU1DY",
        "colab_type": "text"
      },
      "source": [
        "### 7. Explain what is an unknown variable in this system. whether the system is closed with respect to an unknown variable. What is missing for closure. [Text, no more than 200 characters]"
      ]
    },
    {
      "cell_type": "markdown",
      "metadata": {
        "id": "Mq7-nD-Q9lrZ",
        "colab_type": "text"
      },
      "source": [
        "Unknown: $m_i$\n",
        "\n",
        "System is not closed.\n",
        "But we can:\n",
        "\n",
        "* Add 2 equations:\n",
        "\n",
        "    $m_0 = 0$\n",
        "\n",
        "    $m_n = 0$\n",
        "* For first two and last two segments apply third derivative equation:\n",
        "\n",
        "    $\\frac{m_0}{h_1} - (\\frac{1}{h_1} + \\frac{1}{h_2}) * m_1 + \\frac{m_2}{h_2}= 0$\n",
        "    \n",
        "    $\\frac{m_{n - 2}}{h_{n - 1}} - (\\frac{1}{h_{n - 1}} + \\frac{1}{h_n}) * m_{n - 1} + \\frac{m_n}{h_n} = 0$: for nonuniform grid\n",
        "    \n",
        "    $m_0 = \\frac{1}{h^2} * (2 f_0 - 5 f_1 + 4 f_2 - f_3)$\n",
        "    \n",
        "    $m_n = \\frac{1}{h^2} * (-f_{n - 3} + 4 f_{n - 2} - 5 f_{n - 1} + 2 f_n)$: for equal steps\n",
        "    "
      ]
    },
    {
      "cell_type": "markdown",
      "metadata": {
        "id": "8ZiNOyCCU1Dc",
        "colab_type": "text"
      },
      "source": [
        "### 8. Bring this matrix to the appropriate form to use the Tridiagonal matrix algorithm [Mathematical derivation. Use Gauss Elimination]"
      ]
    },
    {
      "cell_type": "markdown",
      "metadata": {
        "id": "7R4SHlcODN7r",
        "colab_type": "text"
      },
      "source": [
        "$$ \\begin{bmatrix}\n",
        "    1      & -P_1   & 0      & 0      & \\dots     & 0      \\\\\n",
        "    0      & 1      & -P_2   & 0      & \\dots     & 0      \\\\\n",
        "    0      & 0      & 1      & -P_3   & \\dots     & 0      \\\\\n",
        "    \\vdots & \\vdots & \\vdots & \\vdots & \\ddots    & \\vdots \\\\\n",
        "    0      & 0      & 0      & 0      & \\dots     & 1 \n",
        "\\end{bmatrix} M = \\begin{bmatrix}\n",
        "    Q_0 \\\\\n",
        "    Q_1 \\\\\n",
        "    Q_2 \\\\\n",
        "    \\vdots \\\\\n",
        "    Q_{n-1}\n",
        "\\end{bmatrix} $$"
      ]
    },
    {
      "cell_type": "markdown",
      "metadata": {
        "id": "pzi96Aa8U1Di",
        "colab_type": "text"
      },
      "source": [
        "### 9. Derive formulas of direct pass and reverse pass of Tridiagonal matrix algorithm [Mathematical formals]"
      ]
    },
    {
      "cell_type": "markdown",
      "metadata": {
        "id": "mUg7Cwi8CUho",
        "colab_type": "text"
      },
      "source": [
        "### Direct pass\n",
        "\n",
        "1. Find $P_1 = \\frac{γ_1}{β_1}; Q_1 = -\\frac{δ_1}{β_1}$\n",
        "2. Find $P_2, Q_2; P_3, Q_3, .. , P_{n - 1}, Q_{n - 1}$\n",
        "\n",
        "### Reverse pass\n",
        "\n",
        "1. Find $x_n = \\frac{ά_n Q_{n - 1} - δ_n}{B_n - ά_n P_{n - 1}}$\n",
        "2. Find $x_{n - 1}, x_{n - 2}, .. , x_1$ using formula:\n",
        "  $x_{i - 1} = P_{i - 1} x_i + Q_{i - 1} , {i = n, .. 2}$"
      ]
    },
    {
      "cell_type": "markdown",
      "metadata": {
        "id": "NYF2cz1AU1Dm",
        "colab_type": "text"
      },
      "source": [
        "### 10. Implement code prototype of the future algorithm implementation. Classes/methods (if you use OOP), functions. The final implementation (on language chosen by you) should not differ from the functions declared in the prototype. [Python code]"
      ]
    },
    {
      "cell_type": "markdown",
      "metadata": {
        "id": "VJfDTcpER-qg",
        "colab_type": "text"
      },
      "source": [
        "### Language\n",
        "\n",
        "Prototype: Python\n",
        "\n",
        "With optimizations: C++\n",
        "\n",
        "### Classes\n",
        "\n",
        "I will not use classes, all code will in $main()$\n",
        "\n",
        "### Functions\n",
        "\n",
        "I will use internal functions of numpy and sympy. And my own functions: \n",
        "* Function which take value $\\hat{x_i}$ and help to find which polinomial need to use\n",
        "* Triagonal Matrix Algorithm with direct or reverse pass(will choose later)\n",
        "\n",
        "### Pseudocode\n",
        "\n",
        "1. Read input data\n",
        "\n",
        "2. For each set find solution of matrix using TriagonalMatrixAlgorithm()\n",
        "\n",
        "  2.1 For each $\\hat{x_i}$ print result\n"
      ]
    },
    {
      "cell_type": "markdown",
      "metadata": {
        "id": "aBb6b3R1U1Dq",
        "colab_type": "text"
      },
      "source": [
        "### 11. Derive formula of Cubic Spline method error [Mathematical formulas]"
      ]
    },
    {
      "cell_type": "markdown",
      "metadata": {
        "id": "Pz-f-TRKHnCY",
        "colab_type": "text"
      },
      "source": [
        "$(\\int_{x_i}^{x_{i+1}} S_3(x) \\,dx = \\hat{I}_{i}^{i+1})  \\approx (\\int_{x_i}^{x_{i+1}} {f_m}(x,{a}) \\,dx= I_{i}^{i+1})$ for each $[x_i, x_{i + 1}]$\n",
        "\n",
        "Error is $O(h^{5}_{i + 1})$\n",
        "\n",
        "For $I_{a}^{b} = \\int_a^{b} f(x) \\,dx$ for $[a, b]$ error is $O(H^4)$ where $H = max(h_{i + 1})$"
      ]
    },
    {
      "cell_type": "markdown",
      "metadata": {
        "id": "2mn1GLilU1Dv",
        "colab_type": "text"
      },
      "source": [
        "### 12. Rate the complexity of the algorithm [Text, and rate in terms of big O, no more than 100 characters]"
      ]
    },
    {
      "cell_type": "markdown",
      "metadata": {
        "id": "mLEPgSr_EtCB",
        "colab_type": "text"
      },
      "source": [
        "\n",
        "There are N equations and N variables, so  matrix is $N * N$.\n",
        "\n",
        "Gaussian method gives $O(N^3)$\n",
        "\n",
        "But notice that matrix is tridiagonal and using Tridiagonal matrix algorithm(Метод прогонки) complexity decrease to $O(N)$\n",
        "\n",
        "Problem in PCMS gives M sets of values, so total complexity of my algorithm is $O(NM)$"
      ]
    },
    {
      "cell_type": "markdown",
      "metadata": {
        "id": "XhrPxJ2KU1Dy",
        "colab_type": "text"
      },
      "source": [
        "### Congrats!"
      ]
    }
  ]
}